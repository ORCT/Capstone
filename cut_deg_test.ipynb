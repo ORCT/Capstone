{
 "cells": [
  {
   "cell_type": "code",
   "execution_count": 17,
   "metadata": {},
   "outputs": [],
   "source": [
    "import numpy as np\n",
    "import cv2\n",
    "def grayscale(img):\n",
    "    return cv2.cvtColor(img, cv2.COLOR_RGB2GRAY)\n",
    "\n",
    "def gaussian_blur(img, kernel_size):\n",
    "    return cv2.GaussianBlur(img, (kernel_size, kernel_size), 0)\n",
    "\n",
    "def canny(img, low_threshold, high_threshold):\n",
    "    return cv2.Canny(img, low_threshold, high_threshold)\n",
    "\n",
    "def roi(img,h,w):\n",
    "    mask = np.zeros_like(img)\n",
    "    vertices = np.array([[(w/10,h), (w/10,h*3/4), (w*9/10,h*3/4), (w*9/10,h)]], dtype=np.int32)\n",
    "    cv2.fillPoly(mask, vertices, 255)\n",
    "    roi_img = cv2.bitwise_and(img, mask)\n",
    "    return roi_img\n",
    "\n",
    "def hough(img,h,w,min_line_len):\n",
    "    lines = cv2.HoughLinesP(img, rho=1, theta=np.pi/180, threshold=30, minLineLength=min_line_len, maxLineGap=30)#return = [[x1,y1,x2,y2],[...],...]\n",
    "    #lanes = cut_deg(lines)\n",
    "    line_img = np.zeros((h, w, 3), dtype=np.uint8)\n",
    "    # for line in lines:\n",
    "    #     for x1,y1,x2,y2 in line:\n",
    "    #         cv2.line(line_img, (x1, y1), (x2, y2), color=[255,0,0], thickness=2)\n",
    "    return lines"
   ]
  },
  {
   "cell_type": "code",
   "execution_count": 18,
   "metadata": {},
   "outputs": [],
   "source": [
    "origin_img = cv2.imread('./slope_test.jpg')\n",
    "h,w = origin_img.shape[:2]\n",
    "gray_img = grayscale(origin_img)\n",
    "blur_img = gaussian_blur(gray_img, 5)\n",
    "canny_img = canny(blur_img, 50, 200)\n",
    "roi_img = roi(canny_img,h,w)\n",
    "hough_lines = hough(roi_img,h,w,120)\n",
    "\n",
    "hough_lines = np.squeeze(hough_lines)\n",
    "slope_deg = np.rad2deg(np.arctan2(hough_lines[:,1]-hough_lines[:,3],hough_lines[:,0]-hough_lines[:,2]))"
   ]
  },
  {
   "cell_type": "code",
   "execution_count": null,
   "metadata": {},
   "outputs": [],
   "source": []
  },
  {
   "cell_type": "code",
   "execution_count": 19,
   "metadata": {},
   "outputs": [],
   "source": [
    "hough_linesa = hough_lines[np.abs(slope_deg)<160]#cannot use and\n",
    "slope_dega = slope_deg[np.abs(slope_deg)<160]\n",
    "hough_linesa = hough_linesa[np.abs(slope_dega)>95]\n",
    "slope_dega = slope_dega[np.abs(slope_dega)>95]#where can i use slope"
   ]
  }
 ],
 "metadata": {
  "interpreter": {
   "hash": "b3ba2566441a7c06988d0923437866b63cedc61552a5af99d1f4fb67d367b25f"
  },
  "kernelspec": {
   "display_name": "Python 3.8.5 ('base')",
   "language": "python",
   "name": "python3"
  },
  "language_info": {
   "codemirror_mode": {
    "name": "ipython",
    "version": 3
   },
   "file_extension": ".py",
   "mimetype": "text/x-python",
   "name": "python",
   "nbconvert_exporter": "python",
   "pygments_lexer": "ipython3",
   "version": "3.8.5"
  },
  "orig_nbformat": 4
 },
 "nbformat": 4,
 "nbformat_minor": 2
}
