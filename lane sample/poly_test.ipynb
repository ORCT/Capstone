{
 "cells": [
  {
   "cell_type": "code",
   "execution_count": null,
   "metadata": {},
   "outputs": [],
   "source": [
    "import numpy as np\n",
    "import matplotlib.pyplot as plt\n",
    "\n",
    "t = np.arange(0,10,0.01)\n",
    "y = 3*t + 5\n",
    "\n",
    "plt.figure(figsize=(12,8))\n",
    "plt.plot(t,y)\n",
    "plt.show()"
   ]
  },
  {
   "cell_type": "code",
   "execution_count": null,
   "metadata": {},
   "outputs": [],
   "source": [
    "y_noise = y + np.random.randn(len(y))\n",
    "\n",
    "plt.figure(figsize=(12,8))\n",
    "plt.plot(t,y_noise)\n",
    "plt.show()"
   ]
  },
  {
   "cell_type": "code",
   "execution_count": 11,
   "metadata": {},
   "outputs": [
    {
     "data": {
      "text/plain": [
       "array([3.02105191, 4.81755762])"
      ]
     },
     "execution_count": 11,
     "metadata": {},
     "output_type": "execute_result"
    }
   ],
   "source": [
    "fp1 = np.polyfit(t, y_noise, 1)\n",
    "fp1"
   ]
  },
  {
   "cell_type": "code",
   "execution_count": 12,
   "metadata": {},
   "outputs": [
    {
     "data": {
      "text/plain": [
       "poly1d([3.02105191, 4.81755762])"
      ]
     },
     "execution_count": 12,
     "metadata": {},
     "output_type": "execute_result"
    }
   ],
   "source": [
    "f1 = np.poly1d(fp1)\n",
    "f1"
   ]
  },
  {
   "cell_type": "code",
   "execution_count": null,
   "metadata": {},
   "outputs": [],
   "source": [
    "plt.figure(figsize=(12,8))\n",
    "plt.plot(t,y_noise,label='noise', color='y')\n",
    "plt.plot(t,y,ls='dashed',lw=3,color='b',label='origin')\n",
    "plt.plot(t,f1(t),lw=2,color='r',label='polyfit')\n",
    "plt.grid()\n",
    "plt.legend()\n",
    "plt.show()"
   ]
  },
  {
   "cell_type": "code",
   "execution_count": 15,
   "metadata": {},
   "outputs": [],
   "source": [
    "x1 = np.random.rand(1000)\n",
    "x2 = np.random.rand(1000)\n",
    "y1 = np.random.rand(1000)\n",
    "y2 = np.random.rand(1000)\n",
    "poly = np.poly1d(np.polyfit(x1,y1,1))"
   ]
  },
  {
   "cell_type": "code",
   "execution_count": 16,
   "metadata": {},
   "outputs": [],
   "source": [
    "x1 = np.random.rand(1000)\n",
    "x2 = np.random.rand(1000)\n",
    "y1 = np.random.rand(1000)\n",
    "y2 = np.random.rand(1000)\n",
    "avg_x1 = sum(x1)/1000\n",
    "avg_x2 = sum(x2)/1000\n",
    "avg_y1 = sum(y1)/1000\n",
    "avg_y2 = sum(y2)/1000"
   ]
  }
 ],
 "metadata": {
  "interpreter": {
   "hash": "b3ba2566441a7c06988d0923437866b63cedc61552a5af99d1f4fb67d367b25f"
  },
  "kernelspec": {
   "display_name": "Python 3.8.5 ('base')",
   "language": "python",
   "name": "python3"
  },
  "language_info": {
   "codemirror_mode": {
    "name": "ipython",
    "version": 3
   },
   "file_extension": ".py",
   "mimetype": "text/x-python",
   "name": "python",
   "nbconvert_exporter": "python",
   "pygments_lexer": "ipython3",
   "version": "3.8.5"
  },
  "orig_nbformat": 4
 },
 "nbformat": 4,
 "nbformat_minor": 2
}
